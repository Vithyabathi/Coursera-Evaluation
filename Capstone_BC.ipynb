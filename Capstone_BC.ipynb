{
 "cells": [
  {
   "cell_type": "markdown",
   "metadata": {},
   "source": [
    "## BUSINESS CASE"
   ]
  },
  {
   "cell_type": "markdown",
   "metadata": {},
   "source": [
    "Profitability of a business in the current economic world is very competitive and hence, as sugeseted in the course, I would wish to review both the areas of Toronto and Newyork thoroughly.\n",
    "\n",
    "For this analysis I will focus on the area New York. Specifically in the areas where foot traffic and tourism would be most densely concentrated.\n",
    "\n",
    "Opening a new business is not easy especially in a highly competitive city like New York,one of\n",
    "the most visited cities in the world. Every businessman knows he should study his market before doing anything to check if there is a gap and how his product will fill this gap. That is where Foursquare API can help, it is a tool to study the market study. \n",
    "\n",
    "The business problem of my study is someone would like to open a new restaurant in New York but he is not sure where to open it.\n",
    "So, What are the best suburbs to open a restaurant in New York?"
   ]
  },
  {
   "cell_type": "markdown",
   "metadata": {},
   "source": [
    "## Data"
   ]
  },
  {
   "cell_type": "markdown",
   "metadata": {},
   "source": [
    "Data will be taken from the Foursquare database and primarily use the Venues and Users endpoints for the requests. Data will be matched based on the Check-in data to get details for the restaurant and the user in order to establish a connection. We will then establish counts for things like male/female patrons, home cities, friend counts, and so on.\n",
    "\n",
    "Based on our definition of the problem, the following data sources will be needed:\n",
    "* Candidate areas based on a radius surrounding a central location (in our case the Empire State Building)\n",
    "* Number of restaurants and their locations based on the Foursquare API calls\n",
    "* User data matched from check-ins to those restarants, matched by unique ids provided by Foursquare\n",
    "\n"
   ]
  },
  {
   "cell_type": "code",
   "execution_count": null,
   "metadata": {},
   "outputs": [],
   "source": []
  }
 ],
 "metadata": {
  "kernelspec": {
   "display_name": "Python 3",
   "language": "python",
   "name": "python3"
  },
  "language_info": {
   "codemirror_mode": {
    "name": "ipython",
    "version": 3
   },
   "file_extension": ".py",
   "mimetype": "text/x-python",
   "name": "python",
   "nbconvert_exporter": "python",
   "pygments_lexer": "ipython3",
   "version": "3.7.3"
  }
 },
 "nbformat": 4,
 "nbformat_minor": 2
}
